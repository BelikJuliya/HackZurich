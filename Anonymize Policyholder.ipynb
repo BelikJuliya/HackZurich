{
 "cells": [
  {
   "cell_type": "markdown",
   "id": "48d9d60f",
   "metadata": {},
   "source": [
    "# Anonymize Policyholder"
   ]
  },
  {
   "cell_type": "code",
   "execution_count": 1,
   "id": "1300cbf2",
   "metadata": {},
   "outputs": [],
   "source": [
    "## Used modules\n",
    "import PyPDF2\n",
    "from faker import Faker\n",
    "import re"
   ]
  },
  {
   "cell_type": "markdown",
   "id": "569e9edb",
   "metadata": {},
   "source": [
    "## Import PDF insurance and extract text"
   ]
  },
  {
   "cell_type": "code",
   "execution_count": 2,
   "id": "b9b374c7",
   "metadata": {},
   "outputs": [],
   "source": [
    "# Open insurance pdf\n",
    "pdf_file = open('Household insurance Optimum.pdf', 'rb')\n",
    "pdf_reader = PyPDF2.PdfFileReader(pdf_file)\n",
    "\n",
    "# Get the pages of the PDF file\n",
    "first_page = pdf_reader.getPage(0)\n",
    "second_page = pdf_reader.getPage(1)\n",
    "third_page = pdf_reader.getPage(2)\n",
    "\n",
    "# Extract text of pages\n",
    "first_page_text = first_page.extractText()\n",
    "second_page_text = second_page.extractText()\n",
    "third_page_text = third_page.extractText()"
   ]
  },
  {
   "cell_type": "markdown",
   "id": "274b2bc6",
   "metadata": {},
   "source": [
    "## Define pattern and split into blocks "
   ]
  },
  {
   "cell_type": "code",
   "execution_count": 3,
   "id": "35b52434",
   "metadata": {},
   "outputs": [
    {
     "name": "stdout",
     "output_type": "stream",
     "text": [
      "re.compile('Household insurance', re.MULTILINE)\n",
      "re.compile('Contract details', re.MULTILINE)\n",
      "re.compile('Yourcontact', re.MULTILINE)\n",
      "re.compile('\\\\*Statutory charges:', re.MULTILINE)\n",
      "Household insurance\n",
      "Policy no.500.001.305.218\n",
      "Policyholder\n",
      "Mrs.\n",
      "Doris Muster\n",
      "Bahnhaldenstrasse 1\n",
      "8052 Zürich\n"
     ]
    }
   ],
   "source": [
    "# Define the regular expression pattern to match the start of each block\n",
    "block_start_pattern = re.compile(r\"Household insurance\", re.MULTILINE)\n",
    "print(block_start_pattern)\n",
    "\n",
    "block_start_pattern2 = re.compile(r\"Contract details\", re.MULTILINE)\n",
    "print(block_start_pattern2)\n",
    "\n",
    "# Define the regular expression pattern to match the end of each block\n",
    "block_end_pattern = re.compile(r\"Yourcontact\", re.MULTILINE)\n",
    "print(block_end_pattern)\n",
    "\n",
    "block_end_pattern2 = re.compile(r\"\\*Statutory charges:\", re.MULTILINE)\n",
    "print(block_end_pattern2)\n",
    "\n",
    "# Split the parsed text into blocks\n",
    "blocks = []\n",
    "start_positions = [match.start() for match in block_start_pattern.finditer(first_page_text)]\n",
    "\n",
    "end_positions = [match.start() for match in block_end_pattern.finditer(first_page_text)]\n",
    "\n",
    "for i in range(len(start_positions)):\n",
    "    start = start_positions[i]\n",
    "    end = end_positions[i]\n",
    "    block1 = first_page_text[start:end].strip()\n",
    "\n",
    "start_positions = [match.start() for match in block_start_pattern2.finditer(first_page_text)]\n",
    "\n",
    "end_positions = [match.start() for match in block_end_pattern2.finditer(first_page_text)]\n",
    "\n",
    "for i in range(len(start_positions)):\n",
    "    start = start_positions[i]\n",
    "    end = end_positions[i]\n",
    "    block2 = first_page_text[start:end].strip()\n",
    "    \n",
    "print(block1)"
   ]
  },
  {
   "cell_type": "markdown",
   "id": "4ca49684",
   "metadata": {},
   "source": [
    "## Prepare mask of anonymization  "
   ]
  },
  {
   "cell_type": "code",
   "execution_count": 4,
   "id": "abc32f89",
   "metadata": {},
   "outputs": [],
   "source": [
    "# Create a Faker object\n",
    "fake = Faker()\n",
    "\n",
    "# Split block into lines\n",
    "lines = block1.split('\\n')\n",
    "\n",
    "# Define a regular expression to match the policy number\n",
    "pattern = r\"Policy no\\.(\\d{3}\\.\\d{3}\\.\\d{3}\\.\\d{3})\"\n",
    "policy_line = lines[1]\n",
    "\n",
    "# Use the findall() method of the re module to extract the policy number\n",
    "policy_number = re.findall(pattern, policy_line)[0]\n",
    "\n",
    "# Convert the policy number from a string to an integer\n",
    "policy_number_int = int(policy_number.replace(\".\", \"\"))\n",
    "\n",
    "# Anonymize policy number\n",
    "policy_number = fake.random_number(digits=12)\n",
    "\n",
    "# Convert the number to a string and split it into substrings of length three\n",
    "digits = [str(policy_number)[i:i+3] for i in range(0, len(str(policy_number)), 3)]\n",
    "\n",
    "# Join the substrings with dots to create a string with dots every three digits\n",
    "random_policy_number = '.'.join(digits)\n",
    "\n",
    "anonymized_policy_number = 'Policy no.' + random_policy_number"
   ]
  },
  {
   "cell_type": "markdown",
   "id": "c75802ee",
   "metadata": {},
   "source": [
    "## Anonymize policyholder"
   ]
  },
  {
   "cell_type": "code",
   "execution_count": 5,
   "id": "3903f0b6",
   "metadata": {},
   "outputs": [
    {
     "name": "stdout",
     "output_type": "stream",
     "text": [
      "Household insurance\n",
      "Policy no.506.608.994.331\n",
      "Policyholder\n",
      "Mrs.\n",
      "Rachel Weeks\n",
      "1621 Clayton Course Apt. 873\n",
      "08068 East Blakemouth\n"
     ]
    }
   ],
   "source": [
    "# Anonymize the policyholder name and address\n",
    "lines[1] = anonymized_policy_number\n",
    "lines[4] = fake.first_name_female() + ' ' + fake.last_name_female()\n",
    "lines[5] = fake.street_address()\n",
    "lines[6] = fake.postcode() + ' ' + fake.city()\n",
    "\n",
    "# Join the lines back into a single string\n",
    "anonymized_policyholder = '\\n'.join(lines)\n",
    "\n",
    "print(anonymized_policyholder)"
   ]
  },
  {
   "cell_type": "code",
   "execution_count": null,
   "id": "1d39cc1f",
   "metadata": {},
   "outputs": [],
   "source": []
  },
  {
   "cell_type": "code",
   "execution_count": null,
   "id": "1fd5a52a",
   "metadata": {},
   "outputs": [],
   "source": []
  }
 ],
 "metadata": {
  "kernelspec": {
   "display_name": "Python 3 (ipykernel)",
   "language": "python",
   "name": "python3"
  },
  "language_info": {
   "codemirror_mode": {
    "name": "ipython",
    "version": 3
   },
   "file_extension": ".py",
   "mimetype": "text/x-python",
   "name": "python",
   "nbconvert_exporter": "python",
   "pygments_lexer": "ipython3",
   "version": "3.11.4"
  }
 },
 "nbformat": 4,
 "nbformat_minor": 5
}
